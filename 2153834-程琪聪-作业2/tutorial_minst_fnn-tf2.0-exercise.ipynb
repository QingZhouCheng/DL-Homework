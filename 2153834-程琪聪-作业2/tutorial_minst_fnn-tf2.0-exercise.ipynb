{
 "cells": [
  {
   "cell_type": "markdown",
   "metadata": {},
   "source": [
    "## 准备数据"
   ]
  },
  {
   "cell_type": "code",
   "execution_count": 2,
   "metadata": {},
   "outputs": [],
   "source": [
    "import os \n",
    "import numpy as np  \n",
    "import tensorflow as tf  \n",
    "from tensorflow import keras  \n",
    "from tensorflow.keras import layers, optimizers, datasets  \n",
    "\n",
    "os.environ['TF_CPP_MIN_LOG_LEVEL'] = '2'  # 设置环境变量以抑制TensorFlow日志消息\n",
    "\n",
    "def mnist_dataset():\n",
    "    (x, y), (x_test, y_test) = datasets.mnist.load_data()  # 将MNIST数据集加载到训练和测试数据中\n",
    "    # 对图像的像素值进行归一化\n",
    "    x = x / 255.0  # 归一化训练数据\n",
    "    x_test = x_test / 255.0  # 归一化测试数据\n",
    "    \n",
    "    return (x, y), (x_test, y_test)  # 返回归一化的训练和测试数据\n"
   ]
  },
  {
   "cell_type": "code",
   "execution_count": 17,
   "metadata": {},
   "outputs": [
    {
     "name": "stdout",
     "output_type": "stream",
     "text": [
      "[(1, 'a'), (2, 'b'), (3, 'c'), (4, 'd')]\n"
     ]
    }
   ],
   "source": [
    "print(list(zip([1, 2, 3, 4], ['a', 'b', 'c', 'd'])))"
   ]
  },
  {
   "cell_type": "markdown",
   "metadata": {},
   "source": [
    "## 建立模型"
   ]
  },
  {
   "cell_type": "code",
   "execution_count": 6,
   "metadata": {},
   "outputs": [],
   "source": [
    "class myModel(keras.Model):\n",
    "    def __init__(self):\n",
    "        ####################\n",
    "        '''声明模型对应的参数'''\n",
    "        ####################\n",
    "        super(myModel, self).__init__()\n",
    "        self.flatten = layers.Flatten() \n",
    "        self.dense1 = layers.Dense(128, activation='relu')\n",
    "        self.dense2 = layers.Dense(10)\n",
    "\n",
    "\n",
    "    def __call__(self, x):\n",
    "        ####################\n",
    "        '''实现模型函数体，返回未归一化的logits'''\n",
    "        ####################\n",
    "        x = self.flatten(x)  # 将输入展平为一维向量\n",
    "        x = self.dense1(x)  # 第一个全连接层\n",
    "        logits = self.dense2(x)  # 第二个全连接层\n",
    "\n",
    "        return logits\n",
    "    \n",
    "        \n",
    "model = myModel()\n",
    "\n",
    "optimizer = optimizers.Adam()"
   ]
  },
  {
   "cell_type": "markdown",
   "metadata": {},
   "source": [
    "## 计算 loss"
   ]
  },
  {
   "cell_type": "code",
   "execution_count": 7,
   "metadata": {},
   "outputs": [],
   "source": [
    "@tf.function\n",
    "def compute_loss(logits, labels):\n",
    "    return tf.reduce_mean(  \n",
    "        tf.nn.sparse_softmax_cross_entropy_with_logits(  # 计算稀疏softmax交叉熵损失\n",
    "            logits=logits, labels=labels))  # 使用logits和标签计算损失\n",
    "\n",
    "@tf.function\n",
    "def compute_accuracy(logits, labels):\n",
    "    predictions = tf.argmax(logits, axis=1)  # 获取logits中每个样本预测的类别\n",
    "    return tf.reduce_mean(tf.cast(tf.equal(predictions, labels), tf.float32))  # 计算准确率\n",
    "\n",
    "@tf.function\n",
    "def train_one_step(model, optimizer, x, y):\n",
    "    with tf.GradientTape() as tape:  # 创建记录梯度的上下文管理器\n",
    "        logits = model(x)  # 获取模型的logits\n",
    "        loss = compute_loss(logits, y)  # 计算损失函数\n",
    "\n",
    "    trainable_vars = model.trainable_variables  # 获取可训练参数列表\n",
    "    grads = tape.gradient(loss, trainable_vars)  # 计算梯度\n",
    "    optimizer.apply_gradients(zip(grads, trainable_vars))  # 使用优化器更新参数\n",
    "\n",
    "    accuracy = compute_accuracy(logits, y)  # 计算准确率\n",
    "\n",
    "    # 损失和准确率是标量张量\n",
    "    return loss, accuracy\n",
    "\n",
    "@tf.function\n",
    "def test(model, x, y):\n",
    "    logits = model(x)  # 获取模型的logits\n",
    "    loss = compute_loss(logits, y)  # 计算损失函数\n",
    "    accuracy = compute_accuracy(logits, y)  # 计算准确率\n",
    "    return loss, accuracy\n"
   ]
  },
  {
   "cell_type": "markdown",
   "metadata": {},
   "source": [
    "## 实际训练"
   ]
  },
  {
   "cell_type": "code",
   "execution_count": 8,
   "metadata": {},
   "outputs": [
    {
     "name": "stdout",
     "output_type": "stream",
     "text": [
      "epoch 0 : loss 2.3574646 ; accuracy 0.11071666\n",
      "epoch 1 : loss 2.2037277 ; accuracy 0.18133333\n",
      "epoch 2 : loss 2.063918 ; accuracy 0.32298332\n",
      "epoch 3 : loss 1.9320121 ; accuracy 0.47396666\n",
      "epoch 4 : loss 1.8052521 ; accuracy 0.58341664\n",
      "epoch 5 : loss 1.6830928 ; accuracy 0.6453\n",
      "epoch 6 : loss 1.5661563 ; accuracy 0.6835\n",
      "epoch 7 : loss 1.4555833 ; accuracy 0.7105\n",
      "epoch 8 : loss 1.3522578 ; accuracy 0.73263335\n",
      "epoch 9 : loss 1.2566333 ; accuracy 0.75085\n",
      "epoch 10 : loss 1.1689451 ; accuracy 0.76451665\n",
      "epoch 11 : loss 1.0891254 ; accuracy 0.7769667\n",
      "epoch 12 : loss 1.0169959 ; accuracy 0.7892\n",
      "epoch 13 : loss 0.9521043 ; accuracy 0.7984833\n",
      "epoch 14 : loss 0.893927 ; accuracy 0.80605\n",
      "epoch 15 : loss 0.84181803 ; accuracy 0.8117167\n",
      "epoch 16 : loss 0.79517615 ; accuracy 0.81846666\n",
      "epoch 17 : loss 0.75346875 ; accuracy 0.82418334\n",
      "epoch 18 : loss 0.716193 ; accuracy 0.8297667\n",
      "epoch 19 : loss 0.6829193 ; accuracy 0.8348167\n",
      "epoch 20 : loss 0.6532173 ; accuracy 0.8393833\n",
      "epoch 21 : loss 0.62661326 ; accuracy 0.84328336\n",
      "epoch 22 : loss 0.60265094 ; accuracy 0.8473333\n",
      "epoch 23 : loss 0.58097184 ; accuracy 0.85155\n",
      "epoch 24 : loss 0.56133217 ; accuracy 0.8562833\n",
      "epoch 25 : loss 0.5435541 ; accuracy 0.86038333\n",
      "epoch 26 : loss 0.52742535 ; accuracy 0.86406666\n",
      "epoch 27 : loss 0.51271254 ; accuracy 0.86735\n",
      "epoch 28 : loss 0.4991944 ; accuracy 0.86986667\n",
      "epoch 29 : loss 0.48671985 ; accuracy 0.8721833\n",
      "epoch 30 : loss 0.47520542 ; accuracy 0.8745\n",
      "epoch 31 : loss 0.4645706 ; accuracy 0.8763667\n",
      "epoch 32 : loss 0.45471036 ; accuracy 0.87848336\n",
      "epoch 33 : loss 0.44550925 ; accuracy 0.88065\n",
      "epoch 34 : loss 0.4368843 ; accuracy 0.8826333\n",
      "epoch 35 : loss 0.42878807 ; accuracy 0.88435\n",
      "epoch 36 : loss 0.42119083 ; accuracy 0.8860667\n",
      "epoch 37 : loss 0.41405785 ; accuracy 0.8876167\n",
      "epoch 38 : loss 0.4073363 ; accuracy 0.88945\n",
      "epoch 39 : loss 0.4009884 ; accuracy 0.8907833\n",
      "epoch 40 : loss 0.39497775 ; accuracy 0.8921667\n",
      "epoch 41 : loss 0.3892903 ; accuracy 0.8933167\n",
      "epoch 42 : loss 0.38390344 ; accuracy 0.8948333\n",
      "epoch 43 : loss 0.37879404 ; accuracy 0.8961667\n",
      "epoch 44 : loss 0.3739311 ; accuracy 0.8973167\n",
      "epoch 45 : loss 0.36929065 ; accuracy 0.8987167\n",
      "epoch 46 : loss 0.3648566 ; accuracy 0.8998167\n",
      "epoch 47 : loss 0.36061466 ; accuracy 0.90096664\n",
      "epoch 48 : loss 0.35655215 ; accuracy 0.9019833\n",
      "epoch 49 : loss 0.35265756 ; accuracy 0.90321666\n",
      "test loss 0.338699 ; accuracy 0.9087\n"
     ]
    }
   ],
   "source": [
    "train_data, test_data = mnist_dataset()\n",
    "for epoch in range(50):\n",
    "    loss, accuracy = train_one_step(model, optimizer, \n",
    "                                    tf.constant(train_data[0], dtype=tf.float32), \n",
    "                                    tf.constant(train_data[1], dtype=tf.int64))\n",
    "    print('epoch', epoch, ': loss', loss.numpy(), '; accuracy', accuracy.numpy())\n",
    "loss, accuracy = test(model, \n",
    "                      tf.constant(test_data[0], dtype=tf.float32), \n",
    "                      tf.constant(test_data[1], dtype=tf.int64))\n",
    "\n",
    "print('test loss', loss.numpy(), '; accuracy', accuracy.numpy())"
   ]
  }
 ],
 "metadata": {
  "kernelspec": {
   "display_name": "Python 3",
   "language": "python",
   "name": "python3"
  },
  "language_info": {
   "codemirror_mode": {
    "name": "ipython",
    "version": 3
   },
   "file_extension": ".py",
   "mimetype": "text/x-python",
   "name": "python",
   "nbconvert_exporter": "python",
   "pygments_lexer": "ipython3",
   "version": "3.11.5"
  }
 },
 "nbformat": 4,
 "nbformat_minor": 2
}
